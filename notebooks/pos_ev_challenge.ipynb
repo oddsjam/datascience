{
 "cells": [
  {
   "cell_type": "code",
   "execution_count": 1,
   "metadata": {},
   "outputs": [],
   "source": [
    "import os\n",
    "import sys\n",
    "\n",
    "# adding the framework to the PYTHONPATH\n",
    "framework_dir = os.path.dirname(os.path.abspath(\"../framework\"))\n",
    "sys.path.append(framework_dir)"
   ]
  },
  {
   "cell_type": "code",
   "execution_count": null,
   "metadata": {},
   "outputs": [],
   "source": [
    "from framework.backtest import run_backtest\n",
    "from framework.models import OddTs\n",
    "\n",
    "\n",
    "# This function is called for each change of odds in a specific market for a match.\n",
    "# Return the list of OddsTs you want your algorithm to pick for a bet. \n",
    "#\n",
    "# How is the best algorithm evaluated?\n",
    "#\n",
    "# The algoritms is evaluated in the following ways:\n",
    "# 1. Profit per sportsbook in %\n",
    "# 2. Accuracy of the algorithm in % defined as the number of correct bets divided by the total number of bets.\n",
    "# 3. The number of bets placed per main, alt and player props markets.\n",
    "\n",
    "def pos_ev_algo(odds: dict[str, list[OddTs]]):\n",
    "    #picking all the bets by default\n",
    "    bets = odds.values()\n",
    "    return list(bets)\n",
    "\n",
    "\n",
    "run_backtest(\n",
    "    sports=[\"baseball\"],\n",
    "    leagues=[\"mlb\"],\n",
    "    start_date=\"2024-05-16\",\n",
    "    end_date=\"2024-05-17\",\n",
    "    find_opportunities_function=pos_ev_algo,\n",
    ")"
   ]
  }
 ],
 "metadata": {
  "kernelspec": {
   "display_name": "datascience-EwH7QicO-py3.12",
   "language": "python",
   "name": "python3"
  },
  "language_info": {
   "codemirror_mode": {
    "name": "ipython",
    "version": 3
   },
   "file_extension": ".py",
   "mimetype": "text/x-python",
   "name": "python",
   "nbconvert_exporter": "python",
   "pygments_lexer": "ipython3",
   "version": "3.12.3"
  }
 },
 "nbformat": 4,
 "nbformat_minor": 2
}
